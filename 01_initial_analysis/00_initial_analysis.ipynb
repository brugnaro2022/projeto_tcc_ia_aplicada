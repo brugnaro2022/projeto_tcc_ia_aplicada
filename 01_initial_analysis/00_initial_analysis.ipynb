{
 "cells": [
  {
   "cell_type": "markdown",
   "id": "ce258301-19bd-4975-84ad-1b7bd0481e19",
   "metadata": {},
   "source": [
    "<h4><b>Viagens Urbanas Inteligentes: Predição de tempo de viagens urbanas utilizando modelos de Machine Learning e Redes Neurais Artificiais</b></h4>"
   ]
  },
  {
   "cell_type": "markdown",
   "id": "b4e985c3-2fbc-406c-95be-df3c7e1e039c",
   "metadata": {},
   "source": [
    "<h4><b>Conceitos iniciais</b></h4>\n",
    "<ul>\n",
    "    <li>\n",
    "        <p>Como se define a duração de tempo em viagens urbanas?</p>\n",
    "        <p>Quando o veículo inicia seu deslocamento de um ponto inicial até um ponto final.</p>\n",
    "    </li>\n",
    "    <li>\n",
    "        <p>Qual motivo do conhecimento do tempo destas viagens urbanas?</p>\n",
    "        <p>Motivos que envolvem planejamento urbano e a vida cotidiana da população.</p>\n",
    "    </li>\n",
    "    <li>\n",
    "        <p>Qual tipo de transporte público a pesquisa está focada?</p>\n",
    "        <p>Transporte público de ônibus urbano.</p>\n",
    "    </li>\n",
    "</ul>\n"
   ]
  },
  {
   "cell_type": "markdown",
   "id": "67957fc9-a051-4c0d-8482-b0f5f28f187c",
   "metadata": {},
   "source": [
    "<h4><b>Importância da busca por dados reais</b></h4>\n",
    "<p>\n",
    "    Durante reflexões e pesquisas relacionadas a escolha de qual base de dados utilizar na pesquisa, foi priorizada a busca por dados do mundo real, não apenas conjuntos de dados artificiais.\n",
    "</p>\n",
    "<p>\n",
    "    O conjunto de dados escolhido originou-se de fontes confiáveis e abertas que fornecem informações sobre o transporte público urbano em Curitiba, estado do Paraná.</p>\n",
    "<ul>\n",
    "    <li><a href=\"http://br-cities.survey.okfn.org/entry/cb/boundaries.html\">BRAZIL OPEN DATA CENSUS</a></li>    \n",
    "    <li><a href=\"https://www.ippuc.org.br/\">Prefeitura de Curitiba</a></li>    \n",
    "    <li><a href=\"https://dadosabertos.c3sl.ufpr.br/curitibaurbs/\">UFPR (Universidade Federal do Paraná)</a></li>\n",
    "</ul>\n",
    "<p>\n",
    "    A partir do link da UFPR (Universidade Federal do Paraná) temos acesso aos dados brutos. Existem dados a partir do ano 2017 até nosso ano atual. Todos os dias são capturados dados.\n",
    "</p>\n",
    "<p>\n",
    "    Esta pesquisa irá auxiliar a entender se estes dados possuem qualidades para o aprendizado.\n",
    "</p>"
   ]
  },
  {
   "cell_type": "markdown",
   "id": "f83f40b0-0efe-432a-8928-22ac105e4129",
   "metadata": {
    "tags": []
   },
   "source": [
    "<h4><b>Primeiras análises do quadro geral</b></h4>\n",
    "<p>\n",
    "    Estas bases são compostas por informações de linhas de ônibus, geolocalização, categorias de serviços dos ônibus, entre outras características.   \n",
    "</p>\n",
    "<p>\n",
    "    As etapas de análises, pré-processamento, feature engineering são cruciais e de extrema importância para que esta base de dados se adeque ao objetivo e necessidade dos experimentos.\n",
    "</p>\n",
    "<p>\n",
    "    Após as etapas de preparações da base de dados, pretendemos desenvolver experimentos com modelos baseados em Machine Learning e Redes Neurais Artificiais. Estes modelos devem aprender com estes dados, e serem capaz de prever a duração da viagem do ônibus urbano entre um ponto inicial e final.   \n",
    "</p>"
   ]
  },
  {
   "cell_type": "markdown",
   "id": "b5c8eda9-0d81-4ae3-8901-bce08aa6d500",
   "metadata": {
    "tags": []
   },
   "source": [
    "<h4><b>Equadrando o problema</b></h4>\n",
    "<p>\n",
    "    Inicialmente, no intuito de enteder melhor a problemática decidimos produzir um fluxograma composto pelas respectivas etapas.\n",
    "</p>\n",
    "<p>\n",
    "     Neste momento ainda não existem detalhes relacionados as suas respectivas complexidades e paticularidades.\n",
    "</p>\n",
    "<img src=\"../assets/images/pipeline_01.png\" />"
   ]
  },
  {
   "cell_type": "markdown",
   "id": "bfc79a2c-6714-4630-bb52-2e93fff1cf20",
   "metadata": {},
   "source": [
    "<h4><b>Definições de planejamento</b></h4>\n",
    "<p>Decidimos que o planejamento inicial, tendo em vista todas etapas, deveriam ser objetivamente claras: </p>\n",
    "<p><b>Tipo de Aprendizado:</b> Supervisionado, uma vez que os exemplos de treinamento serão rotulados (cada instância vem com resultado esperado);</p>\n",
    "<p><b>Tarefa:</b> Regressão, pois iremos prever um valor de tempo de duração das viagens. Especificamente trata-se de um problema de regressão multivariada, uma vez que o sistema utlizará múltiplas características para fazer uma previsão;\n",
    "</p>\n",
    "<p><b>Fluxo dos dados:</b> Não há fluxo contínuo dos dados entrando no sistema, não há necessidade em especial de se ajustar rapidamente à mudança de dados. Os dados são pequenos o suficiente para caber na memória, de modo que o aprendizado simples em lote irá funcionar bem;\n",
    "</p>\n",
    "<p><b>Medidas de desempenho: </b> RMSE (Raiz do Erro Quadrático Médio), MAE (Erro Médio Absoluto).</p>"
   ]
  },
  {
   "cell_type": "markdown",
   "id": "f801a45c-f848-4d97-87c7-83c9652a6a3f",
   "metadata": {},
   "source": [
    "<h4><b>Análise inicial das características dos dados brutos</b></h4>\n",
    "<ul>\n",
    "    <li>Os dados são disponibilizados em arquivo compresso, extensão .tar.gz ou .json.xz;</li>    \n",
    "    <li>Existem dados a partir da data de 18 de janeiro de 2017 até na presente data atual, todos os dias são disponibilizados novos dados.</li>\n",
    "</ul>\n",
    "\n",
    "<p>Para a captação de dados de um dia completo,  é necessário efetuar o download de oito arquivos:</p>\n",
    "<ul>\n",
    "    <li>linhas</li>    \n",
    "    <li>pois</li>\n",
    "    <li>pontosLinha</li>\n",
    "    <li>shapeLinha</li>    \n",
    "    <li>tabelaLinha</li>    \n",
    "    <li>tabelaVeiculo</li>    \n",
    "    <li>trechosItinerarios</li>    \n",
    "    <li>veiculo</li>    \n",
    "</ul>\n",
    "\n",
    "<p>Cada arquivo contém um dataset com suas respectivas características.</p>\n",
    "\n",
    "<p>Visando analisar informações e características mais relevantes, e melhor entendimento inicial, decidimos selecionar para os experimentos somente os datasets:</p>\n",
    "<ul>\n",
    "    <li>linhas</li>    \n",
    "    <li>pontosLinha</li>    \n",
    "    <li>tabelaLinha</li>    \n",
    "    <li>tabelaVeiculo</li>    \n",
    "    <li>trechosItinerarios</li>  \n",
    "</ul>\n",
    "\n",
    "<p>Também decidimos desenvolver:</p>\n",
    "\n",
    "<p><b>Diagrama de esquema inicial dos datasets selecionados</b></p>\n",
    "<img src=\"../assets/images/00_diagrama_esquema_inicial.png\" />\n",
    "\n",
    "<p><b>Dicionário de dados dos datasets selecionados</b></p>\n",
    "<img src=\"../assets/images/01_dicionario_dados_brutos.png\" />"
   ]
  },
  {
   "cell_type": "markdown",
   "id": "1be87506-5467-4c44-b894-bf18d816c339",
   "metadata": {},
   "source": [
    "<h4><b>Primeiras observações e análises</b></h4>\n",
    "<p>Observamos que a feature 'cod' do dataset linhas se relaciona com os outros datasets selecionados:</p>\n",
    "<img src=\"../assets/images/02_analise_feature_cod.png\" />\n",
    "<p>Tendo em vista esta relação em comum do código identificador da linha, decidimos:\n",
    "<ul>\n",
    "    <li>Remodelar os datasets;</li>    \n",
    "    <li>Remover features julgadas desnecessárias inicialmente;</li>\n",
    "    <li>Alterar nomes das features;</li>    \n",
    "    <li>Construir um novo diagrama de esquemas baseado nesta remodelagem;</li>\n",
    "</ul>\n",
    "<p><b>Novo diagrama de esquemas</b></p>\n",
    "<img src=\"../assets/images/02_analise_feature_cod_novo_diagrama_esquemas.png\" />\n",
    "<p>A partir desse ponto decidimos iniciar as estratégias de pré-processamento de dados visando a unificação de todos datasets remodelados.</p>"
   ]
  },
  {
   "cell_type": "code",
   "execution_count": null,
   "id": "138db54b-c3f1-4008-b943-f166e7e174d3",
   "metadata": {},
   "outputs": [],
   "source": []
  }
 ],
 "metadata": {
  "kernelspec": {
   "display_name": "Python 3 (ipykernel)",
   "language": "python",
   "name": "python3"
  },
  "language_info": {
   "codemirror_mode": {
    "name": "ipython",
    "version": 3
   },
   "file_extension": ".py",
   "mimetype": "text/x-python",
   "name": "python",
   "nbconvert_exporter": "python",
   "pygments_lexer": "ipython3",
   "version": "3.10.13"
  }
 },
 "nbformat": 4,
 "nbformat_minor": 5
}
